{
 "cells": [
  {
   "cell_type": "code",
   "execution_count": 86,
   "metadata": {
    "collapsed": true
   },
   "outputs": [],
   "source": [
    "import email\n",
    "import re\n"
   ]
  },
  {
   "cell_type": "code",
   "execution_count": 112,
   "metadata": {
    "collapsed": false
   },
   "outputs": [
    {
     "name": "stdout",
     "output_type": "stream",
     "text": [
      "[('Message-ID', '<13235995.1075840348885.JavaMail.evans@thyme>'), ('Date', 'Wed, 23 Jan 2002 19:39:18 -0800 (PST)'), ('From', 'bgibson50606@houston.rr.com'), ('To', 'sumpter.teresa@enron.com, stone.pam@enron.com, smithey.linda@enron.com, \\r\\n\\tsinitiere.mary\\xa0nelle@enron.com, shrode.cindy@enron.com, \\r\\n\\tshort.suzanne@enron.com, scardello.jackie@enron.com, \\r\\n\\troberts.gina@enron.com, richmond.trisch@enron.com, \\r\\n\\treese.lisa@enron.com, ramsey.nancy@enron.com, \\r\\n\\tpurser.brenda@enron.com, price.lisa@enron.com, price.jane@enron.com, \\r\\n\\tpoullard.marie@enron.com, podraza.judy@enron.com, \\r\\n\\tpetrak.janet@enron.com, pearce.becky@enron.com, \\r\\n\\tpauley.sharon@enron.com, passero.colleen@enron.com, \\r\\n\\torgan.kathryn@enron.com, munn.mary@enron.com, morgan.tia@enron.com, \\r\\n\\tmontalvo.meg@enron.com, molohon.nora@enron.com, mikel.val@enron.com, \\r\\n\\tmcmullen.katie@enron.com, mclaughlin.patricia@enron.com, \\r\\n\\tmcguinness.lori@enron.com, mcdaniel.teri@enron.com, \\r\\n\\tmccracken.claudia@enron.com, matthews.patricia\\xa0@enron.com, \\r\\n\\tmartin.joy@enron.com, marshall.sarah@enron.com, \\r\\n\\tmark.elaine@enron.com, lyons.gayle@enron.com, loria.claire@enron.com, \\r\\n\\tloggins.susan@enron.com, lindsey.barbara@enron.com, \\r\\n\\tleal.carmen@enron.com, kreiner.linda@enron.com, \\r\\n\\tklingsporn.donah@enron.com, klatt.lori@enron.com, \\r\\n\\tking.kathy@enron.com, khanna.anjali@enron.com, \\r\\n\\tkapasi.anhar@enron.com, jortner.sheila@enron.com, \\r\\n\\tjones.barbara@enron.com, johnson.kelly@enron.com, \\r\\n\\tisgett.devonne@enron.com, holub.kay@enron.com, \\r\\n\\tholmes.gayle@enron.com, hoing.debbie@enron.com, \\r\\n\\thodge.vicki@enron.com, hartzog.janet@enron.com, \\r\\n\\thaney.susan@enron.com, gregory.colleen@enron.com, \\r\\n\\tglenn.tia@enron.com, glapa.kathlene@enron.com, \\r\\n\\tgladstein.robin@enron.com, gibson.beverly@enron.com, \\r\\n\\tgalante.nancy@enron.com, fritz.margaret@enron.com, \\r\\n\\tewalt.lori@enron.com, ellis.michele@enron.com, \\r\\n\\tdufrene.lynette@enron.com, doran.maggie@enron.com, \\r\\n\\tdipaolo.nancy@enron.com, denton.diana@enron.com, \\r\\n\\tday.cynthia@enron.com, craddock.gay@enron.com, \\r\\n\\tconnell.linda@enron.com, christy.linda@enron.com, \\r\\n\\tchabaud.peggy@enron.com, byrd.sandy@enron.com, \\r\\n\\tbuckley.miranda@enron.com, broadus.therese@enron.com, \\r\\n\\tbritton.joan@enron.com, black.kathy@enron.com, \\r\\n\\tbillman.sharlane@enron.com, bell.teresa@enron.com, \\r\\n\\tbell.connie@enron.com, sally.beck@enron.com, bauer.gina@enron.com, \\r\\n\\tbarger.jean@enron.com, baker.karen@enron.com, assour.cindy@enron.com, \\r\\n\\tarrington.sue@enron.com, alvarado.sharon@enron.com, \\r\\n\\talvarado.estella@enron.com'), ('Subject', 'NCL Philanthropies'), ('Mime-Version', '1.0'), ('Content-Type', 'text/plain; charset=us-ascii'), ('Content-Transfer-Encoding', '7bit'), ('X-From', '\"Beverly Gibson\" <bgibson50606@houston.rr.com>@ENRON'), ('X-To', 'Teresa Sumpter <Sumphoust@aol.com>, Pam Stone <RStone9522@aol.com>, Linda Smithey <ges@houston.rr.com>, Mary\\xa0Nelle Sinitiere <mns1024@houston.rr.com>, Cindy Shrode <shrode376@aol.com>, Suzanne Short <sjstex@att.net>, Jackie Scardello <Jackie.Scardello@Compaq.com>, Gina Roberts <RobertsM5@aol.com>, Trisch Richmond <trichmond00@hotmail.com>, Lisa Reese <BKReese98@aol.com>, Nancy Ramsey <nramsey@houston.rr.com>, Brenda Purser <Tpurser@houston.rr.com>, Lisa Price <Gemi602@aol.com>, Jane Price <mprice@hia.net>, Marie Poullard <Mr_Clean@SWBell.net>, Judy Podraza <jipod@aol.com>, Janet Petrak <janetpetrak@usa.net>, Becky Pearce <rebachian@hotmail.com>, Sharon Pauley <spauley@SWBell.net>, Colleen Passero <cpassero@houston.rr.com>, Kathryn Organ <DKA4O@aol.com>, Mary Munn <MMUNN@family.net>, Tia Morgan <TFMMO@aol.com>, Meg Montalvo <Montalvo97@aol.com>, Nora Molohon <rmolohon@pdq.net>, Val Mikel <mikl@texas.net>, Katie McMullen <KatieMcmullen@aol.com>, Patricia McLaughlin <PatriciaM@houston.rr.com>, Lori McGuinness <thomasmc@msn.com>, Teri McDaniel <DAnz7MNM@aol.com>, Claudia McCracken <claudia.mccracken@Compaq.com>, Patricia\\xa0 Matthews <Trish@Quadcitys.com>, Joy Martin <MJoyMartin@aol.com>, Sarah Marshall <sarahm@flex.net>, Elaine Mark <tegamark@ix.netcom.com>, Gayle Lyons <Lauraly1386@aol.com>, Claire Loria <Momcat5cwl@aol.com>, Susan Loggins <sklduece@aol.com>, Barbara Lindsey <BabsLind@aol.com>, Carmen Leal <ECMCCH@aol.com>, Linda Kreiner <tkreiner1@worldnet.att.net>, Donah Klingsporn <bklingsporn@houston.rr.com>, Lori Klatt <jklatt@houston.rr.com>, Kathy King <kathytx@hotmail.com>, Anjali Khanna <dakhanna@hotmail.com>, Anhar Kapasi <abbasak@aol.com>, Sheila Jortner <jortner@ev1.net>, Barbara Jones <bwjski@aol.com>, Kelly Johnson <jfriends@clearsail.net>, Devonne Isgett <ESI0001@aol.com>, Kay Holub <KLHolub@aol.com>, Gayle Holmes <RCHOLMES13@yahoo.com>, Debbie Hoing <sdhoing@aol.com>, Vicki Hodge <jhodge7895@aol.com>, Janet Hartzog <Ketchup1200@aol.com>, Susan Haney <slynneh2@aol.com>, Colleen Gregory <colleen_gregory@hotmail.com>, Tia Glenn <TGlenn8246@cs.com>, Kathlene Glapa <kglapa@pdq.net>, Robin Gladstein <rgladstein@aol.com>, Beverly Gibson <bgibson50606@yahoo.com>, Nancy Galante <ncgalante@aol.com>, Margaret Fritz <dannyfritz@worldnet.att.net>, Lori Ewalt <lewalt53@aol.com>, Michele Ellis <mellis@pdq.net>, Lynette Dufrene <CDMcandles@aol.com>, Maggie Doran <madjad@flash.net>, Nancy DiPaolo <JNKMDip@aol.com>, Diana Denton <dianaLD101@aol.com>, Cynthia Day <cday@houston.rr.com>, Gay Craddock <jcraddock@ev1.net>, Linda Connell <jgconn@yahoo.com>, Linda Christy <linda@thechristys.net>, Peggy Chabaud <luckynumber44@hotmail.com>, Sandy Byrd <markandsandybyrd@msn.com>, Miranda Buckley <MirandaBuckley@PZLQS.com>, Therese Broadus <luvzakc@aol.com>, Joan Britton <JoanBrtt@netscape.net>, Kathy Black <kblack@aokcomputers.com>, Sharlane Billman <gsetbill@gateway.net>, Teresa Bell <tgallagherbell@msn.com>, Connie Bell <KBSPIKE@aol.com>, Beck, Sally </O=ENRON/OU=NA/CN=RECIPIENTS/CN=SBECK>, Gina Bauer <Bauer_John@msn.com>, Jean Barger <jbiz@flash.net>, Karen Baker <Birdie5263@aol.com>, Cindy Assour <swmfly@telocity.com>, Sue Arrington <bettyboop021457@aol.com>, Sharon Alvarado <SJA103@aol.com>, Estella Alvarado <Eda311@aol.com>'), ('X-cc', ''), ('X-bcc', ''), ('X-Folder', '\\\\sbeck\\\\Deleted Items'), ('X-Origin', 'BECK-S'), ('X-FileName', 'sally beck 1-28-02.pst')]\n",
      "----clean body-----\n",
      "\n",
      "Membership:  Please remember that we have commitments to our  philanthropies even though you may have completed your hours.  We are in  need for people to sign up for: \n",
      "KEEP PACE TRANSITION NIGHT \n",
      "Tuesday,  January 29; 6:30 p.m. - 8:30 p.m. \n",
      "Call Jane Price at 281-587-1990  \n",
      "Atria Retirement Home - Bingo and Painting, Call Diana Denton for dates  (281-370-6765).\n",
      " \n",
      "-Claire  Loria\n",
      "\n",
      "----full body-----\n",
      "\n",
      "Membership:  Please remember that we have commitments to our  philanthropies even though you may have completed your hours.  We are in  need for people to sign up for: \n",
      "KEEP PACE TRANSITION NIGHT \n",
      "Tuesday,  January 29; 6:30 p.m. - 8:30 p.m. \n",
      "Call Jane Price at 281-587-1990  \n",
      "Atria Retirement Home - Bingo and Painting, Call Diana Denton for dates  (281-370-6765).\n",
      " \n",
      "-Claire  Loria\n",
      "{'body': '\\nMembership:  Please remember that we have commitments to our  philanthropies even though you may have completed your hours.  We are in  need for people to sign up for: \\nKEEP PACE TRANSITION NIGHT \\nTuesday,  January 29; 6:30 p.m. - 8:30 p.m. \\nCall Jane Price at 281-587-1990  \\nAtria Retirement Home - Bingo and Painting, Call Diana Denton for dates  (281-370-6765).\\n \\n-Claire  Loria\\n', 'from': 'bgibson50606@houston.rr.com', 'to': 'sumpter.teresa@enron.com, stone.pam@enron.com, smithey.linda@enron.com, \\r\\n\\tsinitiere.mary\\xa0nelle@enron.com, shrode.cindy@enron.com, \\r\\n\\tshort.suzanne@enron.com, scardello.jackie@enron.com, \\r\\n\\troberts.gina@enron.com, richmond.trisch@enron.com, \\r\\n\\treese.lisa@enron.com, ramsey.nancy@enron.com, \\r\\n\\tpurser.brenda@enron.com, price.lisa@enron.com, price.jane@enron.com, \\r\\n\\tpoullard.marie@enron.com, podraza.judy@enron.com, \\r\\n\\tpetrak.janet@enron.com, pearce.becky@enron.com, \\r\\n\\tpauley.sharon@enron.com, passero.colleen@enron.com, \\r\\n\\torgan.kathryn@enron.com, munn.mary@enron.com, morgan.tia@enron.com, \\r\\n\\tmontalvo.meg@enron.com, molohon.nora@enron.com, mikel.val@enron.com, \\r\\n\\tmcmullen.katie@enron.com, mclaughlin.patricia@enron.com, \\r\\n\\tmcguinness.lori@enron.com, mcdaniel.teri@enron.com, \\r\\n\\tmccracken.claudia@enron.com, matthews.patricia\\xa0@enron.com, \\r\\n\\tmartin.joy@enron.com, marshall.sarah@enron.com, \\r\\n\\tmark.elaine@enron.com, lyons.gayle@enron.com, loria.claire@enron.com, \\r\\n\\tloggins.susan@enron.com, lindsey.barbara@enron.com, \\r\\n\\tleal.carmen@enron.com, kreiner.linda@enron.com, \\r\\n\\tklingsporn.donah@enron.com, klatt.lori@enron.com, \\r\\n\\tking.kathy@enron.com, khanna.anjali@enron.com, \\r\\n\\tkapasi.anhar@enron.com, jortner.sheila@enron.com, \\r\\n\\tjones.barbara@enron.com, johnson.kelly@enron.com, \\r\\n\\tisgett.devonne@enron.com, holub.kay@enron.com, \\r\\n\\tholmes.gayle@enron.com, hoing.debbie@enron.com, \\r\\n\\thodge.vicki@enron.com, hartzog.janet@enron.com, \\r\\n\\thaney.susan@enron.com, gregory.colleen@enron.com, \\r\\n\\tglenn.tia@enron.com, glapa.kathlene@enron.com, \\r\\n\\tgladstein.robin@enron.com, gibson.beverly@enron.com, \\r\\n\\tgalante.nancy@enron.com, fritz.margaret@enron.com, \\r\\n\\tewalt.lori@enron.com, ellis.michele@enron.com, \\r\\n\\tdufrene.lynette@enron.com, doran.maggie@enron.com, \\r\\n\\tdipaolo.nancy@enron.com, denton.diana@enron.com, \\r\\n\\tday.cynthia@enron.com, craddock.gay@enron.com, \\r\\n\\tconnell.linda@enron.com, christy.linda@enron.com, \\r\\n\\tchabaud.peggy@enron.com, byrd.sandy@enron.com, \\r\\n\\tbuckley.miranda@enron.com, broadus.therese@enron.com, \\r\\n\\tbritton.joan@enron.com, black.kathy@enron.com, \\r\\n\\tbillman.sharlane@enron.com, bell.teresa@enron.com, \\r\\n\\tbell.connie@enron.com, sally.beck@enron.com, bauer.gina@enron.com, \\r\\n\\tbarger.jean@enron.com, baker.karen@enron.com, assour.cindy@enron.com, \\r\\n\\tarrington.sue@enron.com, alvarado.sharon@enron.com, \\r\\n\\talvarado.estella@enron.com', 'x-from': '\"Beverly Gibson\" <bgibson50606@houston.rr.com>@ENRON', 'date': 'Wed, 23 Jan 2002 19:39:18 -0800 (PST)', 'x-to': 'Teresa Sumpter <Sumphoust@aol.com>, Pam Stone <RStone9522@aol.com>, Linda Smithey <ges@houston.rr.com>, Mary\\xa0Nelle Sinitiere <mns1024@houston.rr.com>, Cindy Shrode <shrode376@aol.com>, Suzanne Short <sjstex@att.net>, Jackie Scardello <Jackie.Scardello@Compaq.com>, Gina Roberts <RobertsM5@aol.com>, Trisch Richmond <trichmond00@hotmail.com>, Lisa Reese <BKReese98@aol.com>, Nancy Ramsey <nramsey@houston.rr.com>, Brenda Purser <Tpurser@houston.rr.com>, Lisa Price <Gemi602@aol.com>, Jane Price <mprice@hia.net>, Marie Poullard <Mr_Clean@SWBell.net>, Judy Podraza <jipod@aol.com>, Janet Petrak <janetpetrak@usa.net>, Becky Pearce <rebachian@hotmail.com>, Sharon Pauley <spauley@SWBell.net>, Colleen Passero <cpassero@houston.rr.com>, Kathryn Organ <DKA4O@aol.com>, Mary Munn <MMUNN@family.net>, Tia Morgan <TFMMO@aol.com>, Meg Montalvo <Montalvo97@aol.com>, Nora Molohon <rmolohon@pdq.net>, Val Mikel <mikl@texas.net>, Katie McMullen <KatieMcmullen@aol.com>, Patricia McLaughlin <PatriciaM@houston.rr.com>, Lori McGuinness <thomasmc@msn.com>, Teri McDaniel <DAnz7MNM@aol.com>, Claudia McCracken <claudia.mccracken@Compaq.com>, Patricia\\xa0 Matthews <Trish@Quadcitys.com>, Joy Martin <MJoyMartin@aol.com>, Sarah Marshall <sarahm@flex.net>, Elaine Mark <tegamark@ix.netcom.com>, Gayle Lyons <Lauraly1386@aol.com>, Claire Loria <Momcat5cwl@aol.com>, Susan Loggins <sklduece@aol.com>, Barbara Lindsey <BabsLind@aol.com>, Carmen Leal <ECMCCH@aol.com>, Linda Kreiner <tkreiner1@worldnet.att.net>, Donah Klingsporn <bklingsporn@houston.rr.com>, Lori Klatt <jklatt@houston.rr.com>, Kathy King <kathytx@hotmail.com>, Anjali Khanna <dakhanna@hotmail.com>, Anhar Kapasi <abbasak@aol.com>, Sheila Jortner <jortner@ev1.net>, Barbara Jones <bwjski@aol.com>, Kelly Johnson <jfriends@clearsail.net>, Devonne Isgett <ESI0001@aol.com>, Kay Holub <KLHolub@aol.com>, Gayle Holmes <RCHOLMES13@yahoo.com>, Debbie Hoing <sdhoing@aol.com>, Vicki Hodge <jhodge7895@aol.com>, Janet Hartzog <Ketchup1200@aol.com>, Susan Haney <slynneh2@aol.com>, Colleen Gregory <colleen_gregory@hotmail.com>, Tia Glenn <TGlenn8246@cs.com>, Kathlene Glapa <kglapa@pdq.net>, Robin Gladstein <rgladstein@aol.com>, Beverly Gibson <bgibson50606@yahoo.com>, Nancy Galante <ncgalante@aol.com>, Margaret Fritz <dannyfritz@worldnet.att.net>, Lori Ewalt <lewalt53@aol.com>, Michele Ellis <mellis@pdq.net>, Lynette Dufrene <CDMcandles@aol.com>, Maggie Doran <madjad@flash.net>, Nancy DiPaolo <JNKMDip@aol.com>, Diana Denton <dianaLD101@aol.com>, Cynthia Day <cday@houston.rr.com>, Gay Craddock <jcraddock@ev1.net>, Linda Connell <jgconn@yahoo.com>, Linda Christy <linda@thechristys.net>, Peggy Chabaud <luckynumber44@hotmail.com>, Sandy Byrd <markandsandybyrd@msn.com>, Miranda Buckley <MirandaBuckley@PZLQS.com>, Therese Broadus <luvzakc@aol.com>, Joan Britton <JoanBrtt@netscape.net>, Kathy Black <kblack@aokcomputers.com>, Sharlane Billman <gsetbill@gateway.net>, Teresa Bell <tgallagherbell@msn.com>, Connie Bell <KBSPIKE@aol.com>, Beck, Sally </O=ENRON/OU=NA/CN=RECIPIENTS/CN=SBECK>, Gina Bauer <Bauer_John@msn.com>, Jean Barger <jbiz@flash.net>, Karen Baker <Birdie5263@aol.com>, Cindy Assour <swmfly@telocity.com>, Sue Arrington <bettyboop021457@aol.com>, Sharon Alvarado <SJA103@aol.com>, Estella Alvarado <Eda311@aol.com>', 'message-id': '<13235995.1075840348885.JavaMail.evans@thyme>', 'subject': 'NCL Philanthropies'}\n"
     ]
    }
   ],
   "source": [
    "\n",
    "files=[None]*10\n",
    "files[0]=\"/home/jovyan/work/dev/enron-playground/data/maildir/giron-d/all_documents/25.\"\n",
    "files[1]=\"/home/jovyan/work/dev/enron-playground/data/maildir/giron-d/_sent_mail/7.\"\n",
    "files[2]=\"/home/jovyan/work/dev/enron-playground/data/maildir/ruscitti-k/all_documents/59.\"\n",
    "files[3]=\"/home/jovyan/work/dev/enron-playground/data/maildir/ruscitti-k/ces/5.\"\n",
    "files[4]=\"/home/jovyan/work/dev/enron-playground/data/maildir/ruscitti-k/emailaddresses/22.\"\n",
    "files[5]=\"/home/jovyan/work/dev/enron-playground/data/maildir/ruscitti-k/discussion_threads/78.\"\n",
    "files[6]=\"/home/jovyan/work/dev/enron-playground/data/maildir/ruscitti-k/discussion_threads/315.\"\n",
    "files[7]=\"/home/jovyan/work/dev/enron-playground/data/maildir/ruscitti-k/discussion_threads/153.\"\n",
    "files[8]=\"/home/jovyan/work/dev/enron-playground/data/maildir/ruscitti-k/discussion_threads/119.\"\n",
    "files[9]=\"/home/jovyan/work/dev/enron-playground/data/maildir/beck-s/deleted_items/13.\"\n",
    "\n",
    "\n",
    "\n",
    "stop_regexes = [\n",
    "    re.compile('----\\s*Forwarded by'),\n",
    "    re.compile('----\\s*Original Message'),\n",
    "    re.compile('_{30}'),\n",
    "    re.compile('\\*{30}'),\n",
    "    re.compile('={30}'),\n",
    "    re.compile('-{30}'),\n",
    "    re.compile('\\son \\d{2}\\/\\d{2}\\/\\d{4} \\d{2}:\\d{2}:\\d{2} (AM|PM)$', re.I),\n",
    "    re.compile('Memo from.*on \\d{2}\\s(?:Jan(?:uary)?|Feb(?:ruary)?|Mar(?:ch)?|Apr(?:il)?|May|Jun(?:e)?|Jul(?:y)?|Aug(?:ust)?|Sep(?:tember)?|Oct(?:ober)?|(Nov|Dec)(?:ember)?),', re.I)\n",
    "]\n",
    "\n",
    "            \n",
    "def get_msg_from_file(filename):\n",
    "    #extract email message from a file\n",
    "    with open(filename, \"r\") as f:\n",
    "        contents = f.read()\n",
    "\n",
    "    rtn = email.message_from_string(contents)\n",
    "    return rtn\n",
    "\n",
    "\n",
    "def log_msg(msg):\n",
    "    #prints out an email\n",
    "    headers = msg.items()\n",
    "    print headers\n",
    "    #print msg.keys()\n",
    "    \n",
    "    body = msg.get_payload()\n",
    "    print '----clean body-----'\n",
    "    print apply_stop_regexes(body)\n",
    "    print '----full body-----'\n",
    "    print body\n",
    "\n",
    "\n",
    "def apply_stop_regexes(body):\n",
    "    #applies the regexes contained in the stop_regex_global\n",
    "    rtn = ''\n",
    "    #split the body of the message into lines\n",
    "    for line in body.splitlines():\n",
    "        #if we find one of the stop expressions, stop processing and return immediately\n",
    "        for stop_regex in stop_regexes:\n",
    "            if(stop_regex.search(line))!=None:\n",
    "                return rtn\n",
    "        rtn+=line\n",
    "        #add the line breaks again\n",
    "        rtn+='\\n'\n",
    "    return rtn\n",
    "\n",
    "\n",
    "def build_db_record_dict(msg):\n",
    "    rtn={}\n",
    "    #these are the interesting fields to buid a schema\n",
    "    fields=['Message-ID', 'Date', 'From', 'To', 'Subject','X-From', 'X-To']\n",
    "\n",
    "    for field in fields:\n",
    "        if field in msg:\n",
    "            rtn[field.lower()] = msg[field]\n",
    "\n",
    "    body = msg.get_payload()\n",
    "    body = apply_stop_regexes(body)\n",
    "    rtn['body'] = body\n",
    "    return rtn\n",
    "\n",
    "def main():\n",
    "    for filename in files:\n",
    "        msg = get_msg_from_file(filename)\n",
    "        \n",
    "        if filename==files[9]:\n",
    "            log_msg(msg)\n",
    "            print build_db_record_dict(msg)\n",
    "\n",
    "            \n",
    "main()\n",
    "\n"
   ]
  },
  {
   "cell_type": "code",
   "execution_count": null,
   "metadata": {
    "collapsed": true
   },
   "outputs": [],
   "source": []
  }
 ],
 "metadata": {
  "kernelspec": {
   "display_name": "Python 2",
   "language": "python",
   "name": "python2"
  },
  "language_info": {
   "codemirror_mode": {
    "name": "ipython",
    "version": 2
   },
   "file_extension": ".py",
   "mimetype": "text/x-python",
   "name": "python",
   "nbconvert_exporter": "python",
   "pygments_lexer": "ipython2",
   "version": "2.7.12"
  }
 },
 "nbformat": 4,
 "nbformat_minor": 2
}
