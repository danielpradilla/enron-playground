{
 "cells": [
  {
   "cell_type": "code",
   "execution_count": null,
   "metadata": {
    "collapsed": true
   },
   "outputs": [],
   "source": [
    "import os\n",
    "import multiprocessing\n",
    "import time"
   ]
  },
  {
   "cell_type": "code",
   "execution_count": null,
   "metadata": {
    "collapsed": false
   },
   "outputs": [],
   "source": [
    "root_dir = \"/home/jovyan/work/dev/enron-playground/data/maildir/allen-p\"\n",
    "\n",
    "def walk_and_print():\n",
    "    i=0\n",
    "    for root, dirs, files in os.walk(root_dir,topdown=False):\n",
    "        for filename in files:\n",
    "            i+=1\n",
    "            if i % 1000 == 0:\n",
    "                print \"{0}/{1}\".format(root,filename)\n",
    "\n",
    "                \n",
    "def get_file_list():\n",
    "    rtn = []\n",
    "    i=0\n",
    "    #rtn = [os.path.join(root, filename) for root, dirs, files in os.walk(root_dir, topdown=False) for filename in files ]\n",
    "    for root, dirs, files in os.walk(root_dir,topdown=False):\n",
    "        for filename in files:\n",
    "            path = os.path.join(root,filename)\n",
    "            rtn.append(path)\n",
    "            i+=1\n",
    "            if i % 1000 == 0:\n",
    "                print (\"%s - %s\" % (i, path) )\n",
    "    return rtn\n",
    "\n",
    "def process_files(file_list):\n",
    "    print len(file_list)\n",
    "    while len(file_list)>0:\n",
    "        filename = file_list.pop()\n",
    "        print filename\n",
    "        print len(file_list)\n",
    "\n",
    "        \n",
    "def fill_file_queue(file_queue):\n",
    "    i=0\n",
    "    #rtn = [os.path.join(root, filename) for root, dirs, files in os.walk(root_dir, topdown=False) for filename in files ]\n",
    "    for root, dirs, files in os.walk(root_dir,topdown=False):\n",
    "        for filename in files:\n",
    "            path = os.path.join(root,filename)\n",
    "            file_queue.put(path)\n",
    "            i+=1\n",
    "            if i % 1000 == 0:\n",
    "                print (\"%s - %s\" % (i, path) )\n",
    "    return file_queue\n",
    "\n",
    "def process_file_queue(file_queue):\n",
    "    while True:\n",
    "        filename = file_queue.get()\n",
    "        print filename\n",
    "        if filename==\"DONE\":\n",
    "            break\n",
    "        \n",
    "def main():\n",
    "    start_time = time.time()\n",
    "    #walk_and_print()\n",
    "    file_list = get_file_list()\n",
    "    process_files(file_list)\n",
    "    print(\"---main %s seconds ---\" % (time.time() - start_time))\n",
    "\n",
    "    \n",
    "def main_mp():\n",
    "    start_time = time.time()\n",
    "    workers = 4\n",
    "    file_queue = multiprocessing.Queue()\n",
    "    processes = []\n",
    "    \n",
    "    file_queue = fill_file_queue(file_queue)\n",
    "    file_queue.put('STOP')\n",
    "    \n",
    "    for w in range(workers):\n",
    "        p = multiprocessing.Process(target=process_file_queue, args=(file_queue,))\n",
    "        processes.append(p)\n",
    "        p.start()\n",
    "    \n",
    "    for p in processes:\n",
    "        p.join()\n",
    "    \n",
    "    print(\"---main_mp %s seconds ---\" % (time.time() - start_time))\n",
    "\n",
    "main()\n",
    "main_mp()"
   ]
  }
 ],
 "metadata": {
  "kernelspec": {
   "display_name": "Python 2",
   "language": "python",
   "name": "python2"
  },
  "language_info": {
   "codemirror_mode": {
    "name": "ipython",
    "version": 2
   },
   "file_extension": ".py",
   "mimetype": "text/x-python",
   "name": "python",
   "nbconvert_exporter": "python",
   "pygments_lexer": "ipython2",
   "version": "2.7.12"
  }
 },
 "nbformat": 4,
 "nbformat_minor": 2
}
