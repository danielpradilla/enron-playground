{
 "cells": [
  {
   "cell_type": "code",
   "execution_count": 1,
   "metadata": {
    "collapsed": false
   },
   "outputs": [],
   "source": [
    "import spacy\n",
    "import pymongo\n",
    "import time\n",
    "import random\n",
    "import string\n",
    "\n",
    "from Queue import Queue\n",
    "from threading import Thread\n",
    "\n"
   ]
  },
  {
   "cell_type": "code",
   "execution_count": null,
   "metadata": {
    "collapsed": false
   },
   "outputs": [],
   "source": [
    "\n",
    "MongoClient = pymongo.MongoClient\n",
    "conn = MongoClient('mongo-enron', 27017)\n",
    "#use enron database\n",
    "db = conn['enron']\n",
    "messages = db.messages\n",
    "\n",
    "nlp = spacy.load('en_default')\n",
    "\n",
    "\n",
    "def get_records(query, limit):\n",
    "    #returns results from query \n",
    "    rows = messages.find(query)\n",
    "    rtn = [rows[random.randrange(rows.count())] for item in range(limit)]\n",
    "    return rtn\n",
    "\n",
    "def extract_entities(doc):\n",
    "    #https://spacy.io/docs/usage/entity-recognition\n",
    "    wanted_entities = [\"NORP\",\"FACILITY\",\"ORG\",\"GPE\",\"LOC\",\"PRODUCT\"]\n",
    "    entities = doc.ents\n",
    "    #rtn = [(entity.text.replace('\\n','').replace('\\r','').replace('\\t',''), entity.label_) for entity in entities if entity.label_ in wanted_entities]\n",
    "    rtn = [entity.text.replace('\\n','').replace('\\r','').replace('\\t','') for entity in entities if entity.label_ in wanted_entities]\n",
    "    rtn = set(rtn)\n",
    "    #print rtn\n",
    "    return rtn\n",
    "\n",
    "def get_record_entities(db_record):\n",
    "    print '-----------'\n",
    "    rtn = set()\n",
    "    fields = ['body','subject']\n",
    "    for field in fields:\n",
    "        doc = nlp(db_record[field])\n",
    "        rtn.update(extract_entities(doc))\n",
    "    rtn = [entity for entity in rtn if entity!='']\n",
    "    return rtn\n",
    "\n",
    "def update_record(db_record, entities):\n",
    "    if (len(entities))>0:\n",
    "        messages.update_one({\"_id\": db_record[\"_id\"]},{\"$set\":{\"spacy\":{\"entities\":entities}}})        \n",
    "\n",
    "        \n",
    "def process_records(queue):\n",
    "    i=0\n",
    "    while True:\n",
    "        db_record = queue.get()\n",
    "        entities = get_record_entities(db_record)\n",
    "        update_record(db_record, entities)\n",
    "        #print db_record\n",
    "        i+=1\n",
    "        print \"%s - %s = %s\" % (i, db_record[\"_id\"], entities)\n",
    "        queue.task_done()\n",
    "        \n",
    "def main():\n",
    "    start_time = time.time()\n",
    "    query = {\"date\":{\"$regex\": \"2000\"}, \"body\":{\"$ne\": \"\"}}\n",
    "\n",
    "    queue = Queue(maxsize=0)\n",
    "    num_threads = 10\n",
    "\n",
    "    for i in range(num_threads):\n",
    "        worker = Thread(target=process_records, args=(queue,))\n",
    "        worker.setDaemon(True)\n",
    "        worker.start()\n",
    "\n",
    "    for x in range(100):\n",
    "        db_records = get_records(query, 5)\n",
    "        map(queue.put, db_records)\n",
    "\n",
    "    queue.join()\n",
    "\n",
    "    print(\"---main %s seconds ---\" % (time.time() - start_time))\n",
    "    \n",
    "main()"
   ]
  },
  {
   "cell_type": "code",
   "execution_count": null,
   "metadata": {
    "collapsed": false
   },
   "outputs": [],
   "source": [
    "[ent for ent in ['','a','b'] if ent!='']\n"
   ]
  }
 ],
 "metadata": {
  "kernelspec": {
   "display_name": "Python 2",
   "language": "python",
   "name": "python2"
  },
  "language_info": {
   "codemirror_mode": {
    "name": "ipython",
    "version": 2
   },
   "file_extension": ".py",
   "mimetype": "text/x-python",
   "name": "python",
   "nbconvert_exporter": "python",
   "pygments_lexer": "ipython2",
   "version": "2.7.12"
  }
 },
 "nbformat": 4,
 "nbformat_minor": 2
}
